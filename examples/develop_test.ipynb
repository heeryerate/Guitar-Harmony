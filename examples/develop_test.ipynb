{
 "cells": [
  {
   "cell_type": "code",
   "execution_count": 3,
   "metadata": {},
   "outputs": [
    {
     "name": "stdout",
     "output_type": "stream",
     "text": [
      "The autoreload extension is already loaded. To reload it, use:\n",
      "  %reload_ext autoreload\n"
     ]
    }
   ],
   "source": [
    "from IPython.core.interactiveshell import InteractiveShell\n",
    "InteractiveShell.ast_node_interactivity = \"all\"\n",
    "%load_ext autoreload\n",
    "%autoreload 2"
   ]
  },
  {
   "cell_type": "code",
   "execution_count": 4,
   "metadata": {},
   "outputs": [
    {
     "name": "stdout",
     "output_type": "stream",
     "text": [
      "0.5.9\n"
     ]
    }
   ],
   "source": [
    "import sys\n",
    "sys.path.insert(0, \"../\")\n",
    "import guitarHarmony as gt\n",
    "print(gt.__version__)\n",
    "from itertools import product\n",
    "import random"
   ]
  },
  {
   "cell_type": "code",
   "execution_count": null,
   "metadata": {},
   "outputs": [],
   "source": [
    "import guitarHarmony as gt\n",
    "a=gt.Note()\n",
    "a.name, a.octave, a.nameWithOctave, a.duration\n",
    "# a.show('notation')\n",
    "a.show('midi')\n",
    "a.show('')"
   ]
  },
  {
   "cell_type": "code",
   "execution_count": null,
   "metadata": {},
   "outputs": [],
   "source": [
    "import guitarHarmony as gt\n",
    "a=gt.Note('Fb5', 2.5)\n",
    "a.name, a.octave, a.nameWithOctave, a.duration\n",
    "# a.show('notation')\n",
    "a.show('midi')\n",
    "a.show('')"
   ]
  },
  {
   "cell_type": "code",
   "execution_count": null,
   "metadata": {
    "scrolled": false
   },
   "outputs": [],
   "source": [
    "import guitarHarmony as gt\n",
    "for intv in gt.Interval.displayAllIntervals()[:3]:\n",
    "    gt.Interval(intv).show('midi')\n",
    "    gt.Interval(intv).show()"
   ]
  },
  {
   "cell_type": "code",
   "execution_count": null,
   "metadata": {
    "scrolled": false
   },
   "outputs": [],
   "source": [
    "import guitarHarmony as gt\n",
    "root='C'\n",
    "chord_type='7'\n",
    "chord = gt.Chord(root, chord_type)\n",
    "chord.chord_notes\n",
    "for i in range(4):\n",
    "    chord.getInversion(i).show('notation')\n",
    "\n",
    "root = 'CDEFGAB'\n",
    "for t in gt.Chord.displayAllChordsRecipe()[:3]:\n",
    "    mute=gt.Chord('C', chord_type=t).buildArpeggio()"
   ]
  },
  {
   "cell_type": "code",
   "execution_count": null,
   "metadata": {
    "scrolled": false
   },
   "outputs": [],
   "source": [
    "import guitarHarmony as gt\n",
    "import random\n",
    "\n",
    "elements  = []\n",
    "# Hotel California\n",
    "chord_set = ['B.m', 'F#.7', 'A.add9','E','G','D','E.m', 'F#.7']\n",
    "inversion_set = '00010000'\n",
    "bar_duration = [0.5,0.25,0.25,0.25,0.5,0.25,1.0,0.5,0.5]\n",
    "octaves = [0, 1]\n",
    "\n",
    "# Canon\n",
    "chord_set = ['D5', 'A', 'B.m','F#.m','G','D','G', 'A']\n",
    "inversion_set = '01000000'\n",
    "bar_duration = [0.5,0.25,0.25,0.5,0.25,0.25,0.25,0.25,0.25,0.25,0.25,0.25,0.25,0.25]\n",
    "octaves = [-1, 0, 1]\n",
    "\n",
    "l = len(chord_set)\n",
    "for idx in range(l*2):\n",
    "    chord = gt.Chord.pharseChord(chord_set[idx%l], inversion=int(inversion_set[idx%l]), duration=bar_duration[0])\n",
    "    ap = [random.choice(chord.chord_notes).setDuration(d).changeOctave(random.choice(octaves)) for d in bar_duration[1:]]\n",
    "    elements.append([chord] + ap)\n",
    "\n",
    "s = gt.Stream([el for elset in elements for el in elset])\n",
    "# s.show('notation')\n",
    "s.show()\n",
    "s.show('midi')"
   ]
  },
  {
   "cell_type": "code",
   "execution_count": null,
   "metadata": {},
   "outputs": [],
   "source": [
    "import guitarHarmony as gt\n",
    "chord = gt.Chord.pharseChord('C.7')\n",
    "s = gt.Stream(chord.buildArpeggio(kind='down', unit=1/3)).show()\n",
    "s = gt.Stream(chord.buildArpeggio(kind='Down', unit=1/3)).show()\n",
    "s = gt.Stream(chord.buildArpeggio(kind='up', unit=1/3)).show()\n",
    "s = gt.Stream(chord.buildArpeggio(kind='Up', unit=1/3)).show()\n",
    "s = gt.Stream(chord.buildArpeggio(kind='valley', unit=1/3)).show()\n",
    "# s = gt.Stream(chord.buildArpeggio(kind='Valley')).show()\n",
    "s = gt.Stream(chord.buildArpeggio(kind='hill', unit=1/3)).show()\n",
    "# s = gt.Stream(chord.buildArpeggio(kind='Hill')).show()"
   ]
  },
  {
   "cell_type": "code",
   "execution_count": 20,
   "metadata": {},
   "outputs": [
    {
     "name": "stdout",
     "output_type": "stream",
     "text": [
      "\u001b[91mWARNING:\u001b[0m No match found!\n"
     ]
    }
   ],
   "source": [
    "import guitarHarmony as gt\n",
    "gt.Chord.matchChord(['Eb', 'C5', 'G'], verbose=True)"
   ]
  },
  {
   "cell_type": "code",
   "execution_count": 22,
   "metadata": {},
   "outputs": [
    {
     "data": {
      "text/plain": [
       "[Interval(Perfect,1st), Interval(Minor,3rd), Interval(Minor,6th)]"
      ]
     },
     "execution_count": 22,
     "metadata": {},
     "output_type": "execute_result"
    },
    {
     "name": "stdout",
     "output_type": "stream",
     "text": [
      "\u001b[91mWARNING:\u001b[0m No match found!\n"
     ]
    }
   ],
   "source": [
    "a = gt.Chord(root='E', chord_type='user', chord_notes=['E','G','C5'])\n",
    "a.chord_recipe\n",
    "gt.Chord.matchChord(a.chord_notes)"
   ]
  },
  {
   "cell_type": "code",
   "execution_count": null,
   "metadata": {},
   "outputs": [],
   "source": []
  }
 ],
 "metadata": {
  "kernelspec": {
   "display_name": "Python 3",
   "language": "python",
   "name": "python3"
  },
  "language_info": {
   "codemirror_mode": {
    "name": "ipython",
    "version": 3
   },
   "file_extension": ".py",
   "mimetype": "text/x-python",
   "name": "python",
   "nbconvert_exporter": "python",
   "pygments_lexer": "ipython3",
   "version": "3.7.1"
  }
 },
 "nbformat": 4,
 "nbformat_minor": 2
}
