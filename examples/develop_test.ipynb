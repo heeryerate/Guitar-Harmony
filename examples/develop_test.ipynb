{
 "cells": [
  {
   "cell_type": "code",
   "execution_count": 3,
   "metadata": {},
   "outputs": [
    {
     "name": "stdout",
     "output_type": "stream",
     "text": [
      "The autoreload extension is already loaded. To reload it, use:\n",
      "  %reload_ext autoreload\n"
     ]
    }
   ],
   "source": [
    "from IPython.core.interactiveshell import InteractiveShell\n",
    "InteractiveShell.ast_node_interactivity = \"all\"\n",
    "%load_ext autoreload\n",
    "%autoreload 2"
   ]
  },
  {
   "cell_type": "code",
   "execution_count": 4,
   "metadata": {},
   "outputs": [
    {
     "name": "stdout",
     "output_type": "stream",
     "text": [
      "0.5.9\n"
     ]
    }
   ],
   "source": [
    "import sys\n",
    "sys.path.insert(0, \"../\")\n",
    "import guitarHarmony as gt\n",
    "print(gt.__version__)\n",
    "from itertools import product\n",
    "import random"
   ]
  },
  {
   "cell_type": "code",
   "execution_count": null,
   "metadata": {},
   "outputs": [],
   "source": [
    "import guitarHarmony as gt\n",
    "a=gt.Note()\n",
    "a.name, a.octave, a.nameWithOctave, a.duration\n",
    "# a.show('notation')\n",
    "a.show('midi')\n",
    "a.show('')"
   ]
  },
  {
   "cell_type": "code",
   "execution_count": null,
   "metadata": {},
   "outputs": [],
   "source": [
    "import guitarHarmony as gt\n",
    "a=gt.Note('Fb5', 2.5)\n",
    "a.name, a.octave, a.nameWithOctave, a.duration\n",
    "# a.show('notation')\n",
    "a.show('midi')\n",
    "a.show('')"
   ]
  },
  {
   "cell_type": "code",
   "execution_count": null,
   "metadata": {
    "scrolled": false
   },
   "outputs": [],
   "source": [
    "import guitarHarmony as gt\n",
    "for intv in gt.Interval.displayAllIntervals()[:3]:\n",
    "    gt.Interval(intv).show('midi')\n",
    "    gt.Interval(intv).show()"
   ]
  },
  {
   "cell_type": "code",
   "execution_count": null,
   "metadata": {
    "scrolled": false
   },
   "outputs": [],
   "source": [
    "import guitarHarmony as gt\n",
    "root='C'\n",
    "chord_type='7'\n",
    "chord = gt.Chord(root, chord_type)\n",
    "chord.chord_notes\n",
    "for i in range(4):\n",
    "    chord.getInversion(i).show('notation')\n",
    "\n",
    "root = 'CDEFGAB'\n",
    "for t in gt.Chord.displayAllChordsRecipe()[:3]:\n",
    "    mute=gt.Chord('C', chord_type=t).buildArpeggio()"
   ]
  },
  {
   "cell_type": "code",
   "execution_count": null,
   "metadata": {
    "scrolled": false
   },
   "outputs": [],
   "source": [
    "import guitarHarmony as gt\n",
    "import random\n",
    "\n",
    "elements  = []\n",
    "# Hotel California\n",
    "chord_set = ['B.m', 'F#.7', 'A.add9','E','G','D','E.m', 'F#.7']\n",
    "inversion_set = '00010000'\n",
    "bar_duration = [0.5,0.25,0.25,0.25,0.5,0.25,1.0,0.5,0.5]\n",
    "octaves = [0, 1]\n",
    "\n",
    "# Canon\n",
    "chord_set = ['D5', 'A', 'B.m','F#.m','G','D','G', 'A']\n",
    "inversion_set = '01000000'\n",
    "bar_duration = [0.5,0.25,0.25,0.5,0.25,0.25,0.25,0.25,0.25,0.25,0.25,0.25,0.25,0.25]\n",
    "octaves = [-1, 0, 1]\n",
    "\n",
    "l = len(chord_set)\n",
    "for idx in range(l*2):\n",
    "    chord = gt.Chord.pharseChord(chord_set[idx%l], inversion=int(inversion_set[idx%l]), duration=bar_duration[0])\n",
    "    ap = [random.choice(chord.chord_notes).setDuration(d).changeOctave(random.choice(octaves)) for d in bar_duration[1:]]\n",
    "    elements.append([chord] + ap)\n",
    "\n",
    "s = gt.Stream([el for elset in elements for el in elset])\n",
    "# s.show('notation')\n",
    "s.show()\n",
    "s.show('midi')"
   ]
  },
  {
   "cell_type": "code",
   "execution_count": null,
   "metadata": {},
   "outputs": [],
   "source": [
    "2. % (1/14)"
   ]
  },
  {
   "cell_type": "code",
   "execution_count": null,
   "metadata": {},
   "outputs": [],
   "source": [
    "import guitarHarmony as gt\n",
    "chord = gt.Chord.pharseChord('C.7')\n",
    "s = gt.Stream(chord.buildArpeggio(kind='down', unit=1/3)).show()\n",
    "s = gt.Stream(chord.buildArpeggio(kind='Down', unit=1/3)).show()\n",
    "s = gt.Stream(chord.buildArpeggio(kind='up', unit=1/3)).show()\n",
    "s = gt.Stream(chord.buildArpeggio(kind='Up', unit=1/3)).show()\n",
    "s = gt.Stream(chord.buildArpeggio(kind='valley', unit=1/3)).show()\n",
    "# s = gt.Stream(chord.buildArpeggio(kind='Valley')).show()\n",
    "s = gt.Stream(chord.buildArpeggio(kind='hill', unit=1/3)).show()\n",
    "# s = gt.Stream(chord.buildArpeggio(kind='Hill')).show()"
   ]
  },
  {
   "cell_type": "code",
   "execution_count": 7,
   "metadata": {},
   "outputs": [
    {
     "name": "stdout",
     "output_type": "stream",
     "text": [
      "\u001b[91mWARNING:\u001b[0m No match found!\n"
     ]
    }
   ],
   "source": [
    "import guitarHarmony as gt\n",
    "gt.Chord.matchChord(['Eb', 'C5', 'G'], verbose=True)"
   ]
  },
  {
   "cell_type": "code",
   "execution_count": 18,
   "metadata": {},
   "outputs": [
    {
     "data": {
      "text/plain": [
       "[Interval(Perfect,1st), Interval(Minor,3rd), Interval(Minor,6th)]"
      ]
     },
     "execution_count": 18,
     "metadata": {},
     "output_type": "execute_result"
    },
    {
     "ename": "TypeError",
     "evalue": "'Chord' object is not iterable",
     "output_type": "error",
     "traceback": [
      "\u001b[0;31m---------------------------------------------------------------------------\u001b[0m",
      "\u001b[0;31mTypeError\u001b[0m                                 Traceback (most recent call last)",
      "\u001b[0;32m<ipython-input-18-82a827a92d15>\u001b[0m in \u001b[0;36m<module>\u001b[0;34m\u001b[0m\n\u001b[1;32m      1\u001b[0m \u001b[0ma\u001b[0m \u001b[0;34m=\u001b[0m \u001b[0mgt\u001b[0m\u001b[0;34m.\u001b[0m\u001b[0mChord\u001b[0m\u001b[0;34m(\u001b[0m\u001b[0mroot\u001b[0m\u001b[0;34m=\u001b[0m\u001b[0;34m'E'\u001b[0m\u001b[0;34m,\u001b[0m \u001b[0mchord_type\u001b[0m\u001b[0;34m=\u001b[0m\u001b[0;34m'user'\u001b[0m\u001b[0;34m,\u001b[0m \u001b[0mchord_notes\u001b[0m\u001b[0;34m=\u001b[0m\u001b[0;34m[\u001b[0m\u001b[0;34m'E'\u001b[0m\u001b[0;34m,\u001b[0m\u001b[0;34m'G'\u001b[0m\u001b[0;34m,\u001b[0m\u001b[0;34m'C5'\u001b[0m\u001b[0;34m]\u001b[0m\u001b[0;34m)\u001b[0m\u001b[0;34m\u001b[0m\u001b[0;34m\u001b[0m\u001b[0m\n\u001b[1;32m      2\u001b[0m \u001b[0ma\u001b[0m\u001b[0;34m.\u001b[0m\u001b[0mchord_recipe\u001b[0m\u001b[0;34m\u001b[0m\u001b[0;34m\u001b[0m\u001b[0m\n\u001b[0;32m----> 3\u001b[0;31m \u001b[0mgt\u001b[0m\u001b[0;34m.\u001b[0m\u001b[0mChord\u001b[0m\u001b[0;34m.\u001b[0m\u001b[0mmatchChord\u001b[0m\u001b[0;34m(\u001b[0m\u001b[0ma\u001b[0m\u001b[0;34m)\u001b[0m\u001b[0;34m\u001b[0m\u001b[0;34m\u001b[0m\u001b[0m\n\u001b[0m",
      "\u001b[0;32m/Volumes/Esparami/Source/code/Python/learn_guitar/guitarHarmony/guitarHarmony/chord.py\u001b[0m in \u001b[0;36mmatchChord\u001b[0;34m(notes, verbose)\u001b[0m\n\u001b[1;32m    162\u001b[0m         \u001b[0;32mif\u001b[0m \u001b[0;32mnot\u001b[0m \u001b[0misinstance\u001b[0m\u001b[0;34m(\u001b[0m\u001b[0mnotes\u001b[0m\u001b[0;34m,\u001b[0m \u001b[0mlist\u001b[0m\u001b[0;34m)\u001b[0m \u001b[0;32mand\u001b[0m \u001b[0mnotes\u001b[0m\u001b[0;34m.\u001b[0m\u001b[0mtype\u001b[0m \u001b[0;34m==\u001b[0m \u001b[0;34m'Chord'\u001b[0m\u001b[0;34m:\u001b[0m\u001b[0;34m\u001b[0m\u001b[0;34m\u001b[0m\u001b[0m\n\u001b[1;32m    163\u001b[0m             \u001b[0mnotes\u001b[0m \u001b[0;34m=\u001b[0m \u001b[0mnotes\u001b[0m\u001b[0;34m.\u001b[0m\u001b[0mchord_notes\u001b[0m\u001b[0;34m\u001b[0m\u001b[0;34m\u001b[0m\u001b[0m\n\u001b[0;32m--> 164\u001b[0;31m         \u001b[0msorted_notes\u001b[0m \u001b[0;34m=\u001b[0m \u001b[0mNote\u001b[0m\u001b[0;34m.\u001b[0m\u001b[0msortNotes\u001b[0m\u001b[0;34m(\u001b[0m\u001b[0mnotes\u001b[0m\u001b[0;34m)\u001b[0m\u001b[0;34m\u001b[0m\u001b[0;34m\u001b[0m\u001b[0m\n\u001b[0m\u001b[1;32m    165\u001b[0m         \u001b[0mnotes_recipe\u001b[0m \u001b[0;34m=\u001b[0m \u001b[0mChord\u001b[0m\u001b[0;34m.\u001b[0m\u001b[0mbuildRecipe\u001b[0m\u001b[0;34m(\u001b[0m\u001b[0msorted_notes\u001b[0m\u001b[0;34m)\u001b[0m\u001b[0;34m\u001b[0m\u001b[0;34m\u001b[0m\u001b[0m\n\u001b[1;32m    166\u001b[0m         \u001b[0;32mfor\u001b[0m \u001b[0mk\u001b[0m\u001b[0;34m,\u001b[0m \u001b[0mv\u001b[0m \u001b[0;32min\u001b[0m \u001b[0mCONSTANT\u001b[0m\u001b[0;34m.\u001b[0m\u001b[0mchord_recipes\u001b[0m\u001b[0;34m(\u001b[0m\u001b[0;34m)\u001b[0m\u001b[0;34m.\u001b[0m\u001b[0mitems\u001b[0m\u001b[0;34m(\u001b[0m\u001b[0;34m)\u001b[0m\u001b[0;34m:\u001b[0m\u001b[0;34m\u001b[0m\u001b[0;34m\u001b[0m\u001b[0m\n",
      "\u001b[0;32m/Volumes/Esparami/Source/code/Python/learn_guitar/guitarHarmony/guitarHarmony/note.py\u001b[0m in \u001b[0;36msortNotes\u001b[0;34m(notes, reverse)\u001b[0m\n\u001b[1;32m    104\u001b[0m     \u001b[0;34m@\u001b[0m\u001b[0mstaticmethod\u001b[0m\u001b[0;34m\u001b[0m\u001b[0;34m\u001b[0m\u001b[0m\n\u001b[1;32m    105\u001b[0m     \u001b[0;32mdef\u001b[0m \u001b[0msortNotes\u001b[0m\u001b[0;34m(\u001b[0m\u001b[0mnotes\u001b[0m\u001b[0;34m,\u001b[0m \u001b[0mreverse\u001b[0m\u001b[0;34m=\u001b[0m\u001b[0;32mFalse\u001b[0m\u001b[0;34m)\u001b[0m\u001b[0;34m:\u001b[0m\u001b[0;34m\u001b[0m\u001b[0;34m\u001b[0m\u001b[0m\n\u001b[0;32m--> 106\u001b[0;31m         \u001b[0mnotes\u001b[0m \u001b[0;34m=\u001b[0m \u001b[0;34m[\u001b[0m\u001b[0mNote\u001b[0m\u001b[0;34m(\u001b[0m\u001b[0mnote\u001b[0m\u001b[0;34m)\u001b[0m \u001b[0;32mif\u001b[0m \u001b[0misinstance\u001b[0m\u001b[0;34m(\u001b[0m\u001b[0mnote\u001b[0m\u001b[0;34m,\u001b[0m \u001b[0mstr\u001b[0m\u001b[0;34m)\u001b[0m \u001b[0;32melse\u001b[0m \u001b[0mnote\u001b[0m \u001b[0;32mfor\u001b[0m \u001b[0mnote\u001b[0m \u001b[0;32min\u001b[0m \u001b[0mnotes\u001b[0m\u001b[0;34m]\u001b[0m\u001b[0;34m\u001b[0m\u001b[0;34m\u001b[0m\u001b[0m\n\u001b[0m\u001b[1;32m    107\u001b[0m         \u001b[0;32mreturn\u001b[0m \u001b[0msorted\u001b[0m\u001b[0;34m(\u001b[0m\u001b[0mnotes\u001b[0m\u001b[0;34m,\u001b[0m \u001b[0mkey\u001b[0m\u001b[0;34m=\u001b[0m\u001b[0;32mlambda\u001b[0m \u001b[0mx\u001b[0m\u001b[0;34m:\u001b[0m\u001b[0mx\u001b[0m\u001b[0;34m.\u001b[0m\u001b[0mgetSemiSteps\u001b[0m\u001b[0;34m(\u001b[0m\u001b[0;34m)\u001b[0m\u001b[0;34m,\u001b[0m \u001b[0mreverse\u001b[0m\u001b[0;34m=\u001b[0m\u001b[0mreverse\u001b[0m\u001b[0;34m)\u001b[0m\u001b[0;34m\u001b[0m\u001b[0;34m\u001b[0m\u001b[0m\n\u001b[1;32m    108\u001b[0m \u001b[0;34m\u001b[0m\u001b[0m\n",
      "\u001b[0;31mTypeError\u001b[0m: 'Chord' object is not iterable"
     ]
    }
   ],
   "source": [
    "a = gt.Chord(root='E', chord_type='user', chord_notes=['E','G','C5'])\n",
    "a.chord_recipe\n",
    "gt.Chord.matchChord(a)"
   ]
  },
  {
   "cell_type": "code",
   "execution_count": null,
   "metadata": {},
   "outputs": [],
   "source": []
  }
 ],
 "metadata": {
  "kernelspec": {
   "display_name": "Python 3",
   "language": "python",
   "name": "python3"
  },
  "language_info": {
   "codemirror_mode": {
    "name": "ipython",
    "version": 3
   },
   "file_extension": ".py",
   "mimetype": "text/x-python",
   "name": "python",
   "nbconvert_exporter": "python",
   "pygments_lexer": "ipython3",
   "version": "3.7.1"
  }
 },
 "nbformat": 4,
 "nbformat_minor": 2
}
