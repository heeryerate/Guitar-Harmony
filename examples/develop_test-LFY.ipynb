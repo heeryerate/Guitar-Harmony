{
 "cells": [
  {
   "cell_type": "code",
   "execution_count": 2,
   "metadata": {},
   "outputs": [],
   "source": [
    "from IPython.core.interactiveshell import InteractiveShell\n",
    "InteractiveShell.ast_node_interactivity = \"all\"\n",
    "%load_ext autoreload\n",
    "%autoreload 2"
   ]
  },
  {
   "cell_type": "code",
   "execution_count": 3,
   "metadata": {},
   "outputs": [
    {
     "name": "stderr",
     "output_type": "stream",
     "text": [
      "music21: Certain music21 functions might need these optional packages: matplotlib, scipy;\n",
      "                   if you run into errors, install them by following the instructions at\n",
      "                   http://mit.edu/music21/doc/installing/installAdditional.html\n"
     ]
    },
    {
     "name": "stdout",
     "output_type": "stream",
     "text": [
      "0.5.9\n"
     ]
    }
   ],
   "source": [
    "import sys\n",
    "sys.path.insert(0, \"../\")\n",
    "import guitarHarmony as gt\n",
    "print(gt.__version__)\n",
    "from itertools import product\n",
    "import random"
   ]
  },
  {
   "cell_type": "code",
   "execution_count": 3,
   "metadata": {},
   "outputs": [
    {
     "data": {
      "text/plain": [
       "('C', 4, 'C4', 1.0)"
      ]
     },
     "execution_count": 3,
     "metadata": {},
     "output_type": "execute_result"
    },
    {
     "data": {
      "text/html": [
       "\n",
       "                <div id='midiPlayerDiv16'></div>\n",
       "                <link rel=\"stylesheet\" href=\"//cuthbertLab.github.io/music21j/css/m21.css\"\n",
       "                    type=\"text/css\" />\n",
       "                <script>\n",
       "                require.config({\n",
       "                    paths: {'music21': '//cuthbertLab.github.io/music21j/src/music21'}\n",
       "                });\n",
       "                require(['music21'], function() {\n",
       "                               mp = new music21.miditools.MidiPlayer();\n",
       "                               mp.addPlayer('#midiPlayerDiv16');\n",
       "                               mp.base64Load('data:audio/midi;base64,TVRoZAAAAAYAAQABBABNVHJrAAAAFwD/AwAA4ABAiACQPFqIAIA8AIgA/y8A');\n",
       "                        });\n",
       "                </script>"
      ],
      "text/plain": [
       "<IPython.core.display.HTML object>"
      ]
     },
     "metadata": {},
     "output_type": "display_data"
    },
    {
     "data": {
      "image/png": "[encoded data removed]",
      "text/plain": [
       "<IPython.core.display.Image object>"
      ]
     },
     "metadata": {
      "image/png": {
       "height": 50,
       "width": 149
      }
     },
     "output_type": "display_data"
    }
   ],
   "source": [
    "import guitarHarmony as gt\n",
    "a=gt.Note()\n",
    "a.name, a.octave, a.nameWithOctave, a.duration\n",
    "# a.show('notation')\n",
    "a.show('midi')\n",
    "a.show('')"
   ]
  },
  {
   "cell_type": "code",
   "execution_count": null,
   "metadata": {},
   "outputs": [],
   "source": [
    "import guitarHarmony as gt\n",
    "a=gt.Note('Fb5', 2.5)\n",
    "a.name, a.octave, a.nameWithOctave, a.duration\n",
    "# a.show('notation')\n",
    "a.show('midi')\n",
    "a.show('')"
   ]
  },
  {
   "cell_type": "code",
   "execution_count": null,
   "metadata": {
    "scrolled": false
   },
   "outputs": [],
   "source": [
    "import guitarHarmony as gt\n",
    "for intv in gt.Interval.displayAllIntervals()[:3]:\n",
    "    gt.Interval(intv).show('midi')\n",
    "    gt.Interval(intv).show()"
   ]
  },
  {
   "cell_type": "code",
   "execution_count": null,
   "metadata": {
    "scrolled": false
   },
   "outputs": [],
   "source": [
    "import guitarHarmony as gt\n",
    "root='C'\n",
    "chord_type='7'\n",
    "chord = gt.Chord(root, chord_type)\n",
    "chord.chord_notes\n",
    "for i in range(4):\n",
    "    chord.getInversion(i).show('notation')\n",
    "\n",
    "root = 'CDEFGAB'\n",
    "for t in gt.Chord.displayAllChordsRecipe()[:3]:\n",
    "    mute=gt.Chord('C', chord_type=t).buildArpeggio()"
   ]
  },
  {
   "cell_type": "code",
   "execution_count": 4,
   "metadata": {
    "scrolled": false
   },
   "outputs": [
    {
     "name": "stdout",
     "output_type": "stream",
     "text": [
      "\u001b[91mWARNING:\u001b[0m Reverse base and target, getInterval(A5, B5): M2\n",
      "\u001b[91mWARNING:\u001b[0m Reverse base and target, getInterval(A5, B5): M2\n"
     ]
    },
    {
     "data": {
      "text/html": [
       "\n",
       "                <div id='midiPlayerDiv1303'></div>\n",
       "                <link rel=\"stylesheet\" href=\"//cuthbertLab.github.io/music21j/css/m21.css\"\n",
       "                    type=\"text/css\" />\n",
       "                <script>\n",
       "                require.config({\n",
       "                    paths: {'music21': '//cuthbertLab.github.io/music21j/src/music21'}\n",
       "                });\n",
       "                require(['music21'], function() {\n",
       "                               mp = new music21.miditools.MidiPlayer();\n",
       "                               mp.addPlayer('#midiPlayerDiv1303');\n",
       "                               mp.base64Load('data:audio/midi;base64,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');\n",
       "                        });\n",
       "                </script>"
      ],
      "text/plain": [
       "<IPython.core.display.HTML object>"
      ]
     },
     "metadata": {},
     "output_type": "display_data"
    }
   ],
   "source": [
    "import guitarHarmony as gt\n",
    "import random\n",
    "\n",
    "elements  = []\n",
    "# Hotel California\n",
    "chord_set = ['B.m', 'F#.7', 'A.add9','E','G','D','E.m', 'F#.7']\n",
    "inversion_set = '00010000'\n",
    "bar_duration = [0.5,0.25,0.25,0.25,0.5,0.25,1.0,0.5,0.5]\n",
    "octaves = [-1, 0, 1]\n",
    "\n",
    "# # Canon\n",
    "# chord_set = ['D5', 'A', 'B.m','F#.m','G','D','G', 'A']\n",
    "# inversion_set = '01000000'\n",
    "# bar_duration = [0.5,0.25,0.25,0.5,0.25,0.25,0.25,0.25,0.25,0.25,0.25,0.25,0.25,0.25]\n",
    "# octaves = [-1, 0, 1]\n",
    "\n",
    "l = len(chord_set)\n",
    "for idx in range(l*2):\n",
    "    chord = gt.Chord.pharseChord(chord_set[idx%l], inversion=int(inversion_set[idx%l]), duration=bar_duration[0])\n",
    "    ap = [random.choice(chord.chord_notes).setDuration(d).changeOctave(random.choice(octaves)) for d in bar_duration[1:]]\n",
    "    elements.append([chord.expandChord()] + ap)\n",
    "\n",
    "s = gt.Stream([el for elset in elements for el in elset])\n",
    "# s.show('notation')\n",
    "# s.show()\n",
    "s.show('midi')"
   ]
  },
  {
   "cell_type": "code",
   "execution_count": null,
   "metadata": {},
   "outputs": [],
   "source": [
    "import guitarHarmony as gt\n",
    "chord = gt.Chord.pharseChord('C.7')\n",
    "s = gt.Stream(chord.buildArpeggio(kind='down', unit=1/3)).show()\n",
    "s = gt.Stream(chord.buildArpeggio(kind='Down', unit=1/3)).show()\n",
    "s = gt.Stream(chord.buildArpeggio(kind='up', unit=1/3)).show()\n",
    "s = gt.Stream(chord.buildArpeggio(kind='Up', unit=1/3)).show()\n",
    "s = gt.Stream(chord.buildArpeggio(kind='valley', unit=1/3)).show()\n",
    "# s = gt.Stream(chord.buildArpeggio(kind='Valley')).show()\n",
    "s = gt.Stream(chord.buildArpeggio(kind='hill', unit=1/3)).show()\n",
    "# s = gt.Stream(chord.buildArpeggio(kind='Hill')).show()"
   ]
  },
  {
   "cell_type": "code",
   "execution_count": 20,
   "metadata": {},
   "outputs": [
    {
     "name": "stdout",
     "output_type": "stream",
     "text": [
      "\u001b[91mWARNING:\u001b[0m No match found!\n"
     ]
    }
   ],
   "source": [
    "import guitarHarmony as gt\n",
    "gt.Chord.matchChord(['Eb', 'C5', 'G'], verbose=True)"
   ]
  },
  {
   "cell_type": "code",
   "execution_count": 22,
   "metadata": {},
   "outputs": [
    {
     "data": {
      "text/plain": [
       "[Interval(Perfect,1st), Interval(Minor,3rd), Interval(Minor,6th)]"
      ]
     },
     "execution_count": 22,
     "metadata": {},
     "output_type": "execute_result"
    },
    {
     "name": "stdout",
     "output_type": "stream",
     "text": [
      "\u001b[91mWARNING:\u001b[0m No match found!\n"
     ]
    }
   ],
   "source": [
    "a = gt.Chord(root='E', chord_type='user', chord_notes=['E','G','C5'])\n",
    "a.chord_recipe\n",
    "gt.Chord.matchChord(a.chord_notes)"
   ]
  },
  {
   "cell_type": "code",
   "execution_count": 4,
   "metadata": {},
   "outputs": [
    {
     "data": {
      "text/plain": [
       "[Note(A3), Note(E), Note(A), Note(C#5), Note(E5)]"
      ]
     },
     "execution_count": 4,
     "metadata": {},
     "output_type": "execute_result"
    },
    {
     "data": {
      "text/plain": [
       "[Interval(Perfect,1st),\n",
       " Interval(Perfect,5th),\n",
       " Interval(Perfect,8th),\n",
       " Interval(Minor,6th),\n",
       " Interval(Perfect,4th)]"
      ]
     },
     "execution_count": 4,
     "metadata": {},
     "output_type": "execute_result"
    }
   ],
   "source": [
    "import guitarHarmony as gt\n",
    "gt.Chord('A').expandChord().chord_notes\n",
    "gt.Chord('A').expandChord().chord_recipe"
   ]
  },
  {
   "cell_type": "code",
   "execution_count": 59,
   "metadata": {},
   "outputs": [
    {
     "data": {
      "text/plain": [
       "guitarHarmony.note.Note"
      ]
     },
     "execution_count": 59,
     "metadata": {},
     "output_type": "execute_result"
    },
    {
     "data": {
      "text/plain": [
       "True"
      ]
     },
     "execution_count": 59,
     "metadata": {},
     "output_type": "execute_result"
    },
    {
     "data": {
      "text/plain": [
       "False"
      ]
     },
     "execution_count": 59,
     "metadata": {},
     "output_type": "execute_result"
    }
   ],
   "source": [
    "import guitarHarmony as gt\n",
    "type(gt.Note())\n",
    "isinstance(gt.Note(), gt.Note)\n",
    "isinstance(gt.Note(), gt.Chord)"
   ]
  },
  {
   "cell_type": "code",
   "execution_count": 106,
   "metadata": {},
   "outputs": [],
   "source": [
    "r = gt.Rhythm()"
   ]
  },
  {
   "cell_type": "code",
   "execution_count": 107,
   "metadata": {
    "scrolled": true
   },
   "outputs": [
    {
     "data": {
      "text/plain": [
       "('BxSxSxSBSx', [0.5, 0.5, 0.5, 0.25, 0.25, 0.25, 0.25, 0.5, 0.5, 0.5])"
      ]
     },
     "execution_count": 107,
     "metadata": {},
     "output_type": "execute_result"
    }
   ],
   "source": [
    "r.pattern,r.durations"
   ]
  },
  {
   "cell_type": "code",
   "execution_count": 218,
   "metadata": {},
   "outputs": [
    {
     "data": {
      "text/plain": [
       "('BxSBS', [1.0, 0.5, 0.5, 1.0, 1.0])"
      ]
     },
     "execution_count": 218,
     "metadata": {},
     "output_type": "execute_result"
    }
   ],
   "source": [
    "rs = gt.rhythm.SimpleRhythm('B.xSB.S.')\n",
    "rs.pattern,rs.durations"
   ]
  },
  {
   "cell_type": "markdown",
   "metadata": {},
   "source": [
    "### You don't need to worry about bar_duration anymore"
   ]
  },
  {
   "cell_type": "code",
   "execution_count": 10,
   "metadata": {
    "scrolled": false
   },
   "outputs": [
    {
     "name": "stdout",
     "output_type": "stream",
     "text": [
      "\u001b[91mWARNING:\u001b[0m Reverse base and target, getInterval(D5, F#5): M3\n",
      "\u001b[91mWARNING:\u001b[0m Reverse base and target, getInterval(D5, A5): P5\n",
      "\u001b[91mWARNING:\u001b[0m Reverse base and target, getInterval(F#, A): m3\n",
      "\u001b[91mWARNING:\u001b[0m Reverse base and target, getInterval(G, B): M3\n",
      "\u001b[91mWARNING:\u001b[0m Reverse base and target, getInterval(D, F#): M3\n",
      "\u001b[91mWARNING:\u001b[0m Reverse base and target, getInterval(D, A): P5\n",
      "\u001b[91mWARNING:\u001b[0m Reverse base and target, getInterval(G, B): M3\n",
      "\u001b[91mWARNING:\u001b[0m Reverse base and target, getInterval(D5, F#5): M3\n",
      "\u001b[91mWARNING:\u001b[0m Reverse base and target, getInterval(D5, A5): P5\n",
      "\u001b[91mWARNING:\u001b[0m Reverse base and target, getInterval(F#, A): m3\n",
      "\u001b[91mWARNING:\u001b[0m Reverse base and target, getInterval(G, B): M3\n",
      "\u001b[91mWARNING:\u001b[0m Reverse base and target, getInterval(D, F#): M3\n",
      "\u001b[91mWARNING:\u001b[0m Reverse base and target, getInterval(D, A): P5\n",
      "\u001b[91mWARNING:\u001b[0m Reverse base and target, getInterval(G, B): M3\n",
      "\u001b[91mWARNING:\u001b[0m Reverse base and target, getInterval(D5, F#5): M3\n",
      "\u001b[91mWARNING:\u001b[0m Reverse base and target, getInterval(D5, A5): P5\n",
      "\u001b[91mWARNING:\u001b[0m Reverse base and target, getInterval(F#, A): m3\n",
      "\u001b[91mWARNING:\u001b[0m Reverse base and target, getInterval(G, B): M3\n",
      "\u001b[91mWARNING:\u001b[0m Reverse base and target, getInterval(D, F#): M3\n",
      "\u001b[91mWARNING:\u001b[0m Reverse base and target, getInterval(D, A): P5\n",
      "\u001b[91mWARNING:\u001b[0m Reverse base and target, getInterval(G, B): M3\n",
      "\u001b[91mWARNING:\u001b[0m Reverse base and target, getInterval(D5, F#5): M3\n",
      "\u001b[91mWARNING:\u001b[0m Reverse base and target, getInterval(D5, A5): P5\n",
      "\u001b[91mWARNING:\u001b[0m Reverse base and target, getInterval(F#, A): m3\n",
      "\u001b[91mWARNING:\u001b[0m Reverse base and target, getInterval(G, B): M3\n",
      "\u001b[91mWARNING:\u001b[0m Reverse base and target, getInterval(D, F#): M3\n",
      "\u001b[91mWARNING:\u001b[0m Reverse base and target, getInterval(D, A): P5\n",
      "\u001b[91mWARNING:\u001b[0m Reverse base and target, getInterval(G, B): M3\n",
      "\u001b[91mWARNING:\u001b[0m Reverse base and target, getInterval(D5, F#5): M3\n",
      "\u001b[91mWARNING:\u001b[0m Reverse base and target, getInterval(D5, A5): P5\n",
      "\u001b[91mWARNING:\u001b[0m Reverse base and target, getInterval(F#, A): m3\n",
      "\u001b[91mWARNING:\u001b[0m Reverse base and target, getInterval(G, B): M3\n",
      "\u001b[91mWARNING:\u001b[0m Reverse base and target, getInterval(D, F#): M3\n",
      "\u001b[91mWARNING:\u001b[0m Reverse base and target, getInterval(D, A): P5\n",
      "\u001b[91mWARNING:\u001b[0m Reverse base and target, getInterval(G, B): M3\n",
      "\u001b[91mWARNING:\u001b[0m Reverse base and target, getInterval(D5, F#5): M3\n",
      "\u001b[91mWARNING:\u001b[0m Reverse base and target, getInterval(D5, A5): P5\n",
      "\u001b[91mWARNING:\u001b[0m Reverse base and target, getInterval(F#, A): m3\n",
      "\u001b[91mWARNING:\u001b[0m Reverse base and target, getInterval(G, B): M3\n",
      "\u001b[91mWARNING:\u001b[0m Reverse base and target, getInterval(D, F#): M3\n",
      "\u001b[91mWARNING:\u001b[0m Reverse base and target, getInterval(D, A): P5\n",
      "\u001b[91mWARNING:\u001b[0m Reverse base and target, getInterval(G, B): M3\n",
      "\u001b[91mWARNING:\u001b[0m Reverse base and target, getInterval(D5, F#5): M3\n",
      "\u001b[91mWARNING:\u001b[0m Reverse base and target, getInterval(D5, A5): P5\n",
      "\u001b[91mWARNING:\u001b[0m Reverse base and target, getInterval(F#, A): m3\n",
      "\u001b[91mWARNING:\u001b[0m Reverse base and target, getInterval(G, B): M3\n",
      "\u001b[91mWARNING:\u001b[0m Reverse base and target, getInterval(D, F#): M3\n",
      "\u001b[91mWARNING:\u001b[0m Reverse base and target, getInterval(D, A): P5\n",
      "\u001b[91mWARNING:\u001b[0m Reverse base and target, getInterval(G, B): M3\n",
      "\u001b[91mWARNING:\u001b[0m Reverse base and target, getInterval(D5, F#5): M3\n",
      "\u001b[91mWARNING:\u001b[0m Reverse base and target, getInterval(D5, A5): P5\n",
      "\u001b[91mWARNING:\u001b[0m Reverse base and target, getInterval(F#, A): m3\n",
      "\u001b[91mWARNING:\u001b[0m Reverse base and target, getInterval(G, B): M3\n",
      "\u001b[91mWARNING:\u001b[0m Reverse base and target, getInterval(D, F#): M3\n",
      "\u001b[91mWARNING:\u001b[0m Reverse base and target, getInterval(D, A): P5\n",
      "\u001b[91mWARNING:\u001b[0m Reverse base and target, getInterval(G, B): M3\n"
     ]
    },
    {
     "data": {
      "text/html": [
       "\n",
       "                <div id='midiPlayerDiv40519'></div>\n",
       "                <link rel=\"stylesheet\" href=\"//cuthbertLab.github.io/music21j/css/m21.css\"\n",
       "                    type=\"text/css\" />\n",
       "                <script>\n",
       "                require.config({\n",
       "                    paths: {'music21': '//cuthbertLab.github.io/music21j/src/music21'}\n",
       "                });\n",
       "                require(['music21'], function() {\n",
       "                               mp = new music21.miditools.MidiPlayer();\n",
       "                               mp.addPlayer('#midiPlayerDiv40519');\n",
       "                               mp.base64Load('data:audio/midi;base64,TVRoZAAAAAYAAQABBABNVHJrAAAsTgD/AwAA4ABAiACQOVqEAIA5AACQSlqCAIBKAACQSloAkEVaggCASgAAgEUAAJBRWgCQTloAkEpaAJBFWoQAgFEAAIBOAACASgAAgEUAAJA+WoIAgD4AAJBRWgCQTloAkEpaAJBFWoIAgFEAAIBOAACASgAAgEUAAJA5WoQAgDkAAJBKWoQAgEoAAJBRWgCQTloAkEpaAJBFWoQAgFEAAIBOAACASgAAgEUAAJBOWgCQSloAkEVahACATgAAgEoAAIBFAACQNFqEAIA0AACQOVqCAIA5AACQUVoAkExaAJBJWgCQQFqCAIBRAACATAAAgEkAAIBAAACQTFoAkElaAJBAWoQAgEwAAIBJAACAQAAAkElaggCASQAAkFFaAJBMWgCQSVoAkEBaggCAUQAAgEwAAIBJAACAQAAAkDRahACANAAAkExahACATAAAkExaAJBJWgCQQFqEAIBMAACASQAAgEAAAJBRWgCQTFoAkElaAJBAWoQAgFEAAIBMAACASQAAgEAAAJAvWgCQNlqEAIAvAACANgAAkDZaggCANgAAkEdaAJBCWoIAgEcAAIBCAACQR1oAkEJahACARwAAgEIAAJBKWoIAgEoAAJBKWgCQR1oAkEJaggCASgAAgEcAAIBCAACQNlqEAIA2AACQQlqEAIBCAACQSloAkEdaAJBCWoQAgEoAAIBHAACAQgAAkEdaAJBCWoQAgEcAAIBCAACQMVqEAIAxAACQMVqCAIAxAACQRVoAkEJaAJA9WoIAgEUAAIBCAACAPQAAkEVaAJBCWgCQPVqEAIBFAACAQgAAgD0AAJA2WoIAgDYAAJBFWgCQQloAkD1aggCARQAAgEIAAIA9AACQKloAkDFahACAKgAAgDEAAJBCWoQAgEIAAJBCWgCQPVqEAIBCAACAPQAAkElaAJBFWgCQQloAkD1ahACASQAAgEUAAIBCAACAPQAAkCtaAJAyWoQAgCsAAIAyAACQR1qCAIBHAACQR1oAkENaAJA+WoIAgEcAAIBDAACAPgAAkENaAJA+WoQAgEMAAIA+AACQN1qCAIA3AACQQ1oAkD5aggCAQwAAgD4AAJArWgCQMlqEAIArAACAMgCEAJBKWgCQR1oAkENaAJA+WoQAgEoAAIBHAACAQwAAgD4AAJBDWgCQPlqEAIBDAACAPgAAkC1ahACALQAAkC1aggCALQAAkEVaAJBCWgCQPloAkDlaggCARQAAgEIAAIA+AACAOQAAkEVaAJBCWgCQPloAkDlahACARQAAgEIAAIA+AACAOQAAkC1aggCALQAAkEVaAJBCWgCQPloAkDlaggCARQAAgEIAAIA+AACAOQAAkCZaAJAtWoQAgCYAAIAtAACQLVqEAIAtAACQRVoAkEJaAJA+WgCQOVqEAIBFAACAQgAAgD4AAIA5AACQPloAkDlahACAPgAAgDkAAJArWgCQMlqEAIArAACAMgAAkDJaggCAMgAAkEdaAJBDWgCQPlqCAIBHAACAQwAAgD4AAJBHWgCQQ1oAkD5ahACARwAAgEMAAIA+AACQPlqCAIA+AACQQ1oAkD5aggCAQwAAgD4AAJArWgCQMlqEAIArAACAMgAAkENahACAQwAAkEpaAJBHWgCQQ1oAkD5ahACASgAAgEcAAIBDAACAPgAAkEdaAJBDWgCQPlqEAIBHAACAQwAAgD4AAJAtWgCQNFqEAIAtAACANACCAJBMWgCQSVoAkEVaAJBAWoIAgEwAAIBJAACARQAAgEAAAJBJWgCQRVoAkEBahACASQAAgEUAAIBAAACQRVqCAIBFAACQTFoAkElaAJBFWgCQQFqCAIBMAACASQAAgEUAAIBAAACQLVoAkDRahACALQAAgDQAhACQSVoAkEVaAJBAWoQAgEkAAIBFAACAQAAAkExaAJBJWgCQRVoAkEBahACATAAAgEkAAIBFAACAQAAAkDJaAJA5WoQAgDIAAIA5AACQTlqCAIBOAACQTloAkEpaAJBFWoIAgE4AAIBKAACARQAAkE5aAJBKWgCQRVqEAIBOAACASgAAgEUAAJA5WoIAgDkAAJBRWgCQTloAkEpaAJBFWoIAgFEAAIBOAACASgAAgEUAAJAyWgCQOVqEAIAyAACAOQAAkEpahACASgAAkFFaAJBOWgCQSloAkEVahACAUQAAgE4AAIBKAACARQAAkE5aAJBKWgCQRVqEAIBOAACASgAAgEUAAJAtWgCQNFqEAIAtAACANACCAJBMWgCQSVoAkEBaggCATAAAgEkAAIBAAACQSVoAkEBahACASQAAgEAAAJA0WoIAgDQAAJBRWgCQTFoAkElaAJBAWoIAgFEAAIBMAACASQAAgEAAAJAtWgCQNFqEAIAtAACANACEAJBJWgCQQFqEAIBJAACAQAAAkExaAJBJWgCQQFqEAIBMAACASQAAgEAAAJAvWgCQNlqEAIAvAACANgAAkDtaggCAOwAAkEdaAJBCWoIAgEcAAIBCAACQSloAkEdaAJBCWoQAgEoAAIBHAACAQgAAkDZaggCANgAAkEdaAJBCWoIAgEcAAIBCAACQL1oAkDZahACALwAAgDYAhACQSloAkEdaAJBCWoQAgEoAAIBHAACAQgAAkEpaAJBHWgCQQlqEAIBKAACARwAAgEIAAJAqWgCQMVqEAIAqAACAMQCCAJBFWgCQQloAkD1aggCARQAAgEIAAIA9AACQRVoAkEJaAJA9WoQAgEUAAIBCAACAPQAAkEJaggCAQgAAkElaAJBFWgCQQloAkD1aggCASQAAgEUAAIBCAACAPQAAkDFahACAMQAAkEJahACAQgAAkElaAJBFWgCQQloAkD1ahACASQAAgEUAAIBCAACAPQAAkElaAJBFWgCQQloAkD1ahACASQAAgEUAAIBCAACAPQAAkCtaAJAyWoQAgCsAAIAyAACQPlqCAIA+AACQR1oAkENaAJA+WoIAgEcAAIBDAACAPgAAkEdaAJBDWgCQPlqEAIBHAACAQwAAgD4AAJA3WoIAgDcAAJBKWgCQR1oAkENaAJA+WoIAgEoAAIBHAACAQwAAgD4AAJArWgCQMlqEAIArAACAMgAAkD5ahACAPgAAkENaAJA+WoQAgEMAAIA+AACQSloAkEdaAJBDWgCQPlqEAIBKAACARwAAgEMAAIA+AACQLVqEAIAtAACQPlqCAIA+AACQRVoAkEJaAJA+WgCQOVqCAIBFAACAQgAAgD4AAIA5AACQQloAkD5aAJA5WoQAgEIAAIA+AACAOQAAkDJaggCAMgAAkEJaAJA+WgCQOVqCAIBCAACAPgAAgDkAAJAtWoQAgC0AAJAtWoQAgC0AAJA+WgCQOVqEAIA+AACAOQAAkD5aAJA5WoQAgD4AAIA5AACQMlqEAIAyAACQQ1qCAIBDAACQR1oAkENaAJA+WoIAgEcAAIBDAACAPgAAkENaAJA+WoQAgEMAAIA+AACQMlqCAIAyAACQQ1oAkD5aggCAQwAAgD4AAJAyWoQAgDIAAJAyWoQAgDIAAJBDWgCQPlqEAIBDAACAPgAAkEpaAJBHWgCQQ1oAkD5ahACASgAAgEcAAIBDAACAPgAAkDRahACANAAAkEVaggCARQAAkEVaAJBAWoIAgEUAAIBAAACQTFoAkElaAJBFWgCQQFqEAIBMAACASQAAgEUAAIBAAACQNFqCAIA0AACQSVoAkEVaAJBAWoIAgEkAAIBFAACAQAAAkC1aAJA0WoQAgC0AAIA0AACQSVqEAIBJAACQSVoAkEVaAJBAWoQAgEkAAIBFAACAQAAAkExaAJBJWgCQRVoAkEBahACATAAAgEkAAIBFAACAQAAAkDlahACAOQAAkEpaggCASgAAkE5aAJBKWgCQRVqCAIBOAACASgAAgEUAAJBOWgCQSloAkEVahACATgAAgEoAAIBFAACQPlqCAIA+AACQTloAkEpaAJBFWoIAgE4AAIBKAACARQAAkDJaAJA5WoQAgDIAAIA5AIQAkFFaAJBOWgCQSloAkEVahACAUQAAgE4AAIBKAACARQAAkFFaAJBOWgCQSloAkEVahACAUQAAgE4AAIBKAACARQAAkDRahACANAAAkEBaggCAQAAAkExaAJBJWgCQQFqCAIBMAACASQAAgEAAAJBRWgCQTFoAkElaAJBAWoQAgFEAAIBMAACASQAAgEAAggCQUVoAkExaAJBJWgCQQFqCAIBRAACATAAAgEkAAIBAAACQNFqEAIA0AIQAkExaAJBJWgCQQFqEAIBMAACASQAAgEAAAJBMWgCQSVoAkEBahACATAAAgEkAAIBAAACQL1oAkDZahACALwAAgDYAAJBHWoIAgEcAAJBKWgCQR1oAkEJaggCASgAAgEcAAIBCAACQR1oAkEJahACARwAAgEIAAJBHWoIAgEcAAJBHWgCQQlqCAIBHAACAQgAAkC9aAJA2WoQAgC8AAIA2AACQSlqEAIBKAACQR1oAkEJahACARwAAgEIAAJBKWgCQR1oAkEJahACASgAAgEcAAIBCAACQMVqEAIAxAACQMVqCAIAxAACQSVoAkEVaAJBCWgCQPVqCAIBJAACARQAAgEIAAIA9AACQQloAkD1ahACAQgAAgD0AAJAxWoIAgDEAAJBJWgCQRVoAkEJaAJA9WoIAgEkAAIBFAACAQgAAgD0AAJAqWgCQMVqEAIAqAACAMQAAkD1ahACAPQAAkEJaAJA9WoQAgEIAAIA9AACQQloAkD1ahACAQgAAgD0AAJAyWoQAgDIAAJBDWoIAgEMAAJBHWgCQQ1oAkD5aggCARwAAgEMAAIA+AACQSloAkEdaAJBDWgCQPlqEAIBKAACARwAAgEMAAIA+AACQQ1qCAIBDAACQR1oAkENaAJA+WoIAgEcAAIBDAACAPgAAkCtaAJAyWoQAgCsAAIAyAACQPlqEAIA+AACQQ1oAkD5ahACAQwAAgD4AAJBHWgCQQ1oAkD5ahACARwAAgEMAAIA+AACQLVqEAIAtAACQMlqCAIAyAACQQloAkD5aAJA5WoIAgEIAAIA+AACAOQAAkEVaAJBCWgCQPloAkDlahACARQAAgEIAAIA+AACAOQAAkDlaggCAOQAAkD5aAJA5WoIAgD4AAIA5AACQLVqEAIAtAACQQlqEAIBCAACQRVoAkEJaAJA+WgCQOVqEAIBFAACAQgAAgD4AAIA5AACQQloAkD5aAJA5WoQAgEIAAIA+AACAOQAAkCtaAJAyWoQAgCsAAIAyAIIAkEpaAJBHWgCQQ1oAkD5aggCASgAAgEcAAIBDAACAPgAAkEdaAJBDWgCQPlqEAIBHAACAQwAAgD4AAJA3WoIAgDcAAJBHWgCQQ1oAkD5aggCARwAAgEMAAIA+AACQMlqEAIAyAACQR1qEAIBHAACQR1oAkENaAJA+WoQAgEcAAIBDAACAPgAAkEpaAJBHWgCQQ1oAkD5ahACASgAAgEcAAIBDAACAPgAAkDRahACANAAAkDRaggCANAAAkEVaAJBAWoIAgEUAAIBAAACQTFoAkElaAJBFWgCQQFqEAIBMAACASQAAgEUAAIBAAACQRVqCAIBFAACQSVoAkEVaAJBAWoIAgEkAAIBFAACAQAAAkC1aAJA0WoQAgC0AAIA0AACQRVqEAIBFAACQSVoAkEVaAJBAWoQAgEkAAIBFAACAQAAAkElaAJBFWgCQQFqEAIBJAACARQAAgEAAAJAyWgCQOVqEAIAyAACAOQAAkEVaggCARQAAkFFaAJBOWgCQSloAkEVaggCAUQAAgE4AAIBKAACARQAAkE5aAJBKWgCQRVqEAIBOAACASgAAgEUAAJA5WoIAgDkAAJBOWgCQSloAkEVaggCATgAAgEoAAIBFAACQMloAkDlahACAMgAAgDkAAJBFWoQAgEUAAJBOWgCQSloAkEVahACATgAAgEoAAIBFAACQTloAkEpaAJBFWoQAgE4AAIBKAACARQAAkDRahACANACCAJBRWgCQTFoAkElaAJBAWoIAgFEAAIBMAACASQAAgEAAAJBRWgCQTFoAkElaAJBAWoQAgFEAAIBMAACASQAAgEAAAJBAWoIAgEAAAJBMWgCQSVoAkEBaggCATAAAgEkAAIBAAACQLVoAkDRahACALQAAgDQAAJBJWoQAgEkAAJBJWgCQQFqEAIBJAACAQAAAkElaAJBAWoQAgEkAAIBAAACQL1oAkDZahACALwAAgDYAAJA2WoIAgDYAAJBHWgCQQlqCAIBHAACAQgAAkE5aAJBKWgCQR1oAkEJahACATgAAgEoAAIBHAACAQgCCAJBHWgCQQlqCAIBHAACAQgAAkDZahACANgAAkEJahACAQgAAkEpaAJBHWgCQQlqEAIBKAACARwAAgEIAAJBHWgCQQlqEAIBHAACAQgAAkCpaAJAxWoQAgCoAAIAxAACQPVqCAIA9AACQSVoAkEVaAJBCWgCQPVqCAIBJAACARQAAgEIAAIA9AACQSVoAkEVaAJBCWgCQPVqEAIBJAACARQAAgEIAAIA9AACQRVqCAIBFAACQSVoAkEVaAJBCWgCQPVqCAIBJAACARQAAgEIAAIA9AACQMVqEAIAxAACQQlqEAIBCAACQQloAkD1ahACAQgAAgD0AAJBFWgCQQloAkD1ahACARQAAgEIAAIA9AACQK1oAkDJahACAKwAAgDIAAJAyWoIAgDIAAJBDWgCQPlqCAIBDAACAPgAAkENaAJA+WoQAgEMAAIA+AIIAkEdaAJBDWgCQPlqCAIBHAACAQwAAgD4AAJArWgCQMlqEAIArAACAMgAAkDJahACAMgAAkEdaAJBDWgCQPlqEAIBHAACAQwAAgD4AAJBKWgCQR1oAkENaAJA+WoQAgEoAAIBHAACAQwAAgD4AAJAtWoQAgC0AAJA+WoIAgD4AAJBCWgCQPloAkDlaggCAQgAAgD4AAIA5AACQRVoAkEJaAJA+WgCQOVqEAIBFAACAQgAAgD4AAIA5AIIAkEVaAJBCWgCQPloAkDlaggCARQAAgEIAAIA+AACAOQAAkC1ahACALQAAkDJahACAMgAAkEJaAJA+WgCQOVqEAIBCAACAPgAAgDkAAJBFWgCQQloAkD5aAJA5WoQAgEUAAIBCAACAPgAAgDkAAJAyWoQAgDIAAJA3WoIAgDcAAJBKWgCQR1oAkENaAJA+WoIAgEoAAIBHAACAQwAAgD4AAJBKWgCQR1oAkENaAJA+WoQAgEoAAIBHAACAQwAAgD4AAJA+WoIAgD4AAJBKWgCQR1oAkENaAJA+WoIAgEoAAIBHAACAQwAAgD4AAJArWgCQMlqEAIArAACAMgAAkD5ahACAPgAAkENaAJA+WoQAgEMAAIA+AACQSloAkEdaAJBDWgCQPlqEAIBKAACARwAAgEMAAIA+AACQNFqEAIA0AACQQFqCAIBAAACQTFoAkElaAJBFWgCQQFqCAIBMAACASQAAgEUAAIBAAACQSVoAkEVaAJBAWoQAgEkAAIBFAACAQAAAkEBaggCAQAAAkEVaAJBAWoIAgEUAAIBAAACQLVoAkDRahACALQAAgDQAAJBAWoQAgEAAAJBJWgCQRVoAkEBahACASQAAgEUAAIBAAACQRVoAkEBahACARQAAgEAAAJA5WoQAgDkAAJA5WoIAgDkAAJBOWgCQSloAkEVaggCATgAAgEoAAIBFAACQUVoAkE5aAJBKWgCQRVqEAIBRAACATgAAgEoAAIBFAACQRVqCAIBFAACQTloAkEpaAJBFWoIAgE4AAIBKAACARQAAkDJaAJA5WoQAgDIAAIA5AACQPlqEAIA+AACQTloAkEpaAJBFWoQAgE4AAIBKAACARQAAkFFaAJBOWgCQSloAkEVahACAUQAAgE4AAIBKAACARQAAkDRahACANAAAkDlaggCAOQAAkFFaAJBMWgCQSVoAkEBaggCAUQAAgEwAAIBJAACAQAAAkFFaAJBMWgCQSVoAkEBahACAUQAAgEwAAIBJAACAQAAAkExaggCATAAAkExaAJBJWgCQQFqCAIBMAACASQAAgEAAAJAtWgCQNFqEAIAtAACANAAAkElahACASQAAkElaAJBAWoQAgEkAAIBAAACQUVoAkExaAJBJWgCQQFqEAIBRAACATAAAgEkAAIBAAACQNlqEAIA2AACQO1qCAIA7AACQTloAkEpaAJBHWgCQQlqCAIBOAACASgAAgEcAAIBCAACQTloAkEpaAJBHWgCQQlqEAIBOAACASgAAgEcAAIBCAACQO1qCAIA7AACQSloAkEdaAJBCWoIAgEoAAIBHAACAQgAAkC9aAJA2WoQAgC8AAIA2AACQSlqEAIBKAACQTloAkEpaAJBHWgCQQlqEAIBOAACASgAAgEcAAIBCAACQTloAkEpaAJBHWgCQQlqEAIBOAACASgAAgEcAAIBCAACQKloAkDFahACAKgAAgDEAAJA2WoIAgDYAAJBFWgCQQloAkD1aggCARQAAgEIAAIA9AACQRVoAkEJaAJA9WoQAgEUAAIBCAACAPQAAkDZaggCANgAAkEVaAJBCWgCQPVqCAIBFAACAQgAAgD0AAJAxWoQAgDEAhACQSVoAkEVaAJBCWgCQPVqEAIBJAACARQAAgEIAAIA9AACQQloAkD1ahACAQgAAgD0AAJAyWoQAgDIAAJBDWoIAgEMAAJBDWgCQPlqCAIBDAACAPgAAkEdaAJBDWgCQPlqEAIBHAACAQwAAgD4AggCQSloAkEdaAJBDWgCQPlqCAIBKAACARwAAgEMAAIA+AACQK1oAkDJahACAKwAAgDIAAJBHWoQAgEcAAJBDWgCQPlqEAIBDAACAPgAAkENaAJA+WoQAgEMAAIA+AACQJloAkC1ahACAJgAAgC0AAJA+WoIAgD4AAJA+WgCQOVqCAIA+AACAOQAAkEVaAJBCWgCQPloAkDlahACARQAAgEIAAIA+AACAOQAAkEJaggCAQgAAkEJaAJA+WgCQOVqCAIBCAACAPgAAgDkAAJAmWgCQLVqEAIAmAACALQCEAJBFWgCQQloAkD5aAJA5WoQAgEUAAIBCAACAPgAAgDkAAJBCWgCQPloAkDlahACAQgAAgD4AAIA5AACQK1oAkDJahACAKwAAgDIAggCQSloAkEdaAJBDWgCQPlqCAIBKAACARwAAgEMAAIA+AACQR1oAkENaAJA+WoQAgEcAAIBDAACAPgAAkDdaggCANwAAkENaAJA+WoIAgEMAAIA+AACQK1oAkDJahACAKwAAgDIAhACQR1oAkENaAJA+WoQAgEcAAIBDAACAPgAAkENaAJA+WoQAgEMAAIA+AACQNFqEAIA0AACQQFqCAIBAAACQTFoAkElaAJBFWgCQQFqCAIBMAACASQAAgEUAAIBAAACQRVoAkEBahACARQAAgEAAAJBJWoIAgEkAAJBMWgCQSVoAkEVaAJBAWoIAgEwAAIBJAACARQAAgEAAAJAtWgCQNFqEAIAtAACANAAAkDlahACAOQAAkEVaAJBAWoQAgEUAAIBAAACQRVoAkEBahACARQAAgEAAAJAyWgCQOVqEAIAyAACAOQAAkDlaggCAOQAAkE5aAJBKWgCQRVqCAIBOAACASgAAgEUAAJBKWgCQRVqEAIBKAACARQCCAJBKWgCQRVqCAIBKAACARQAAkDJaAJA5WoQAgDIAAIA5AACQRVqEAIBFAACQTloAkEpaAJBFWoQAgE4AAIBKAACARQAAkFFaAJBOWgCQSloAkEVahACAUQAAgE4AAIBKAACARQAAkC1aAJA0WoQAgC0AAIA0AACQQFqCAIBAAACQSVoAkEBaggCASQAAgEAAAJBRWgCQTFoAkElaAJBAWoQAgFEAAIBMAACASQAAgEAAggCQSVoAkEBaggCASQAAgEAAAJAtWgCQNFqEAIAtAACANACEAJBJWgCQQFqEAIBJAACAQAAAkExaAJBJWgCQQFqEAIBMAACASQAAgEAAAJA2WoQAgDYAAJBHWoIAgEcAAJBHWgCQQlqCAIBHAACAQgAAkEpaAJBHWgCQQlqEAIBKAACARwAAgEIAAJA2WoIAgDYAAJBKWgCQR1oAkEJaggCASgAAgEcAAIBCAACQNlqEAIA2AACQR1qEAIBHAACQSloAkEdaAJBCWoQAgEoAAIBHAACAQgAAkEdaAJBCWoQAgEcAAIBCAACQKloAkDFahACAKgAAgDEAggCQQloAkD1aggCAQgAAgD0AAJBJWgCQRVoAkEJaAJA9WoQAgEkAAIBFAACAQgAAgD0AAJAxWoIAgDEAAJBFWgCQQloAkD1aggCARQAAgEIAAIA9AACQMVqEAIAxAACQRVqEAIBFAACQQloAkD1ahACAQgAAgD0AAJBCWgCQPVqEAIBCAACAPQAAkDJahACAMgAAkEdaggCARwAAkEdaAJBDWgCQPlqCAIBHAACAQwAAgD4AAJBDWgCQPlqEAIBDAACAPgAAkD5aggCAPgAAkENaAJA+WoIAgEMAAIA+AACQK1oAkDJahACAKwAAgDIAAJBHWoQAgEcAAJBHWgCQQ1oAkD5ahACARwAAgEMAAIA+AACQR1oAkENaAJA+WoQAgEcAAIBDAACAPgAAkCZaAJAtWoQAgCYAAIAtAACQQlqCAIBCAACQQloAkD5aAJA5WoIAgEIAAIA+AACAOQAAkD5aAJA5WoQAgD4AAIA5AACQLVqCAIAtAACQPloAkDlaggCAPgAAgDkAAJAtWoQAgC0AAJAtWoQAgC0AAJBCWgCQPloAkDlahACAQgAAgD4AAIA5AACQPloAkDlahACAPgAAgDkAAJAyWoQAgDIAAJAyWoIAgDIAAJBKWgCQR1oAkENaAJA+WoIAgEoAAIBHAACAQwAAgD4AAJBHWgCQQ1oAkD5ahACARwAAgEMAAIA+AACQQ1qCAIBDAACQSloAkEdaAJBDWgCQPlqCAIBKAACARwAAgEMAAIA+AACQK1oAkDJahACAKwAAgDIAhACQSloAkEdaAJBDWgCQPlqEAIBKAACARwAAgEMAAIA+AACQSloAkEdaAJBDWgCQPlqEAIBKAACARwAAgEMAAIA+AACQLVoAkDRahACALQAAgDQAggCQSVoAkEVaAJBAWoIAgEkAAIBFAACAQAAAkExaAJBJWgCQRVoAkEBahACATAAAgEkAAIBFAACAQAAAkEVaggCARQAAkElaAJBFWgCQQFqCAIBJAACARQAAgEAAAJAtWgCQNFqEAIAtAACANAAAkDlahACAOQAAkExaAJBJWgCQRVoAkEBahACATAAAgEkAAIBFAACAQAAAkEVaAJBAWoQAgEUAAIBAAACQOVqEAIA5AACQSlqCAIBKAACQUVoAkE5aAJBKWgCQRVqCAIBRAACATgAAgEoAAIBFAACQUVoAkE5aAJBKWgCQRVqEAIBRAACATgAAgEoAAIBFAACQOVqCAIA5AACQUVoAkE5aAJBKWgCQRVqCAIBRAACATgAAgEoAAIBFAACQOVqEAIA5AACQSlqEAIBKAACQTloAkEpaAJBFWoQAgE4AAIBKAACARQAAkE5aAJBKWgCQRVqEAIBOAACASgAAgEUAAJA0WoQAgDQAAJBJWoIAgEkAAJBJWgCQQFqCAIBJAACAQAAAkFFaAJBMWgCQSVoAkEBahACAUQAAgEwAAIBJAACAQAAAkEBaggCAQAAAkExaAJBJWgCQQFqCAIBMAACASQAAgEAAAJAtWgCQNFqEAIAtAACANAAAkElahACASQAAkExaAJBJWgCQQFqEAIBMAACASQAAgEAAAJBRWgCQTFoAkElaAJBAWoQAgFEAAIBMAACASQAAgEAAAJA2WoQAgDYAAJBKWoIAgEoAAJBKWgCQR1oAkEJaggCASgAAgEcAAIBCAACQTloAkEpaAJBHWgCQQlqEAIBOAACASgAAgEcAAIBCAACQR1qCAIBHAACQTloAkEpaAJBHWgCQQlqCAIBOAACASgAAgEcAAIBCAACQL1oAkDZahACALwAAgDYAAJBHWoQAgEcAAJBKWgCQR1oAkEJahACASgAAgEcAAIBCAACQTloAkEpaAJBHWgCQQlqEAIBOAACASgAAgEcAAIBCAACQKloAkDFahACAKgAAgDEAAJBFWoIAgEUAAJBFWgCQQloAkD1aggCARQAAgEIAAIA9AACQSVoAkEVaAJBCWgCQPVqEAIBJAACARQAAgEIAAIA9AACQQlqCAIBCAACQQloAkD1aggCAQgAAgD0AAJAxWoQAgDEAAJA2WoQAgDYAAJBJWgCQRVoAkEJaAJA9WoQAgEkAAIBFAACAQgAAgD0AAJBJWgCQRVoAkEJaAJA9WoQAgEkAAIBFAACAQgAAgD0AAJAyWoQAgDIAAJAyWoIAgDIAAJBDWgCQPlqCAIBDAACAPgAAkEdaAJBDWgCQPlqEAIBHAACAQwAAgD4AAJA3WoIAgDcAAJBDWgCQPlqCAIBDAACAPgAAkDJahACAMgAAkD5ahACAPgAAkEpaAJBHWgCQQ1oAkD5ahACASgAAgEcAAIBDAACAPgAAkEdaAJBDWgCQPlqEAIBHAACAQwAAgD4AAJAmWgCQLVqEAIAmAACALQAAkDlaggCAOQAAkD5aAJA5WoIAgD4AAIA5AACQQloAkD5aAJA5WoQAgEIAAIA+AACAOQCCAJBFWgCQQloAkD5aAJA5WoIAgEUAAIBCAACAPgAAgDkAAJAmWgCQLVqEAIAmAACALQAAkDlahACAOQAAkEVaAJBCWgCQPloAkDlahACARQAAgEIAAIA+AACAOQAAkEVaAJBCWgCQPloAkDlahACARQAAgEIAAIA+AACAOQAAkCtaAJAyWoQAgCsAAIAyAIIAkEdaAJBDWgCQPlqCAIBHAACAQwAAgD4AAJBHWgCQQ1oAkD5ahACARwAAgEMAAIA+AIIAkENaAJA+WoIAgEMAAIA+AACQK1oAkDJahACAKwAAgDIAAJBDWoQAgEMAAJBDWgCQPlqEAIBDAACAPgAAkEpaAJBHWgCQQ1oAkD5ahACASgAAgEcAAIBDAACAPgAAkC1aAJA0WoQAgC0AAIA0AACQQFqCAIBAAACQTFoAkElaAJBFWgCQQFqCAIBMAACASQAAgEUAAIBAAACQRVoAkEBahACARQAAgEAAAJA0WoIAgDQAAJBJWgCQRVoAkEBaggCASQAAgEUAAIBAAACQLVoAkDRahACALQAAgDQAAJBAWoQAgEAAAJBFWgCQQFqEAIBFAACAQAAAkEVaAJBAWoQAgEUAAIBAAACQOVqEAIA5AACQPlqCAIA+AACQSloAkEVaggCASgAAgEUAAJBRWgCQTloAkEpaAJBFWoQAgFEAAIBOAACASgAAgEUAAJA+WoIAgD4AAJBKWgCQRVqCAIBKAACARQAAkDlahACAOQAAkEVahACARQAAkE5aAJBKWgCQRVqEAIBOAACASgAAgEUAAJBOWgCQSloAkEVahACATgAAgEoAAIBFAACQLVoAkDRahACALQAAgDQAAJBAWoIAgEAAAJBRWgCQTFoAkElaAJBAWoIAgFEAAIBMAACASQAAgEAAAJBRWgCQTFoAkElaAJBAWoQAgFEAAIBMAACASQAAgEAAAJA5WoIAgDkAAJBJWgCQQFqCAIBJAACAQAAAkC1aAJA0WoQAgC0AAIA0AACQTFqEAIBMAACQTFoAkElaAJBAWoQAgEwAAIBJAACAQAAAkExaAJBJWgCQQFqEAIBMAACASQAAgEAAAJAvWgCQNlqEAIAvAACANgAAkDtaggCAOwAAkEdaAJBCWoIAgEcAAIBCAACQR1oAkEJahACARwAAgEIAggCQSloAkEdaAJBCWoIAgEoAAIBHAACAQgAAkDZahACANgAAkEJahACAQgAAkEpaAJBHWgCQQlqEAIBKAACARwAAgEIAAJBHWgCQQlqEAIBHAACAQgAAkDFahACAMQAAkDFaggCAMQAAkEJaAJA9WoIAgEIAAIA9AACQSVoAkEVaAJBCWgCQPVqEAIBJAACARQAAgEIAAIA9AIIAkElaAJBFWgCQQloAkD1aggCASQAAgEUAAIBCAACAPQAAkDFahACAMQAAkEVahACARQAAkElaAJBFWgCQQloAkD1ahACASQAAgEUAAIBCAACAPQAAkEVaAJBCWgCQPVqEAIBFAACAQgAAgD0AAJArWgCQMlqEAIArAACAMgCCAJBKWgCQR1oAkENaAJA+WoIAgEoAAIBHAACAQwAAgD4AAJBDWgCQPlqEAIBDAACAPgAAkDdaggCANwAAkENaAJA+WoIAgEMAAIA+AACQK1oAkDJahACAKwAAgDIAAJBDWoQAgEMAAJBDWgCQPlqEAIBDAACAPgAAkENaAJA+WoQAgEMAAIA+AACQJloAkC1ahACAJgAAgC0AAJBCWoIAgEIAAJA+WgCQOVqCAIA+AACAOQAAkEJaAJA+WgCQOVqEAIBCAACAPgAAgDkAggCQRVoAkEJaAJA+WgCQOVqCAIBFAACAQgAAgD4AAIA5AACQLVqEAIAtAACQMlqEAIAyAACQRVoAkEJaAJA+WgCQOVqEAIBFAACAQgAAgD4AAIA5AACQRVoAkEJaAJA+WgCQOVqEAIBFAACAQgAAgD4AAIA5AACQMlqEAIAyAACQMlqCAIAyAACQQ1oAkD5aggCAQwAAgD4AAJBDWgCQPlqEAIBDAACAPgAAkENaggCAQwAAkENaAJA+WoIAgEMAAIA+AACQK1oAkDJahACAKwAAgDIAAJAyWoQAgDIAAJBKWgCQR1oAkENaAJA+WoQAgEoAAIBHAACAQwAAgD4AAJBDWgCQPlqEAIBDAACAPgAAkC1aAJA0WoQAgC0AAIA0AACQOVqCAIA5AACQTFoAkElaAJBFWgCQQFqCAIBMAACASQAAgEUAAIBAAACQRVoAkEBahACARQAAgEAAAJA0WoIAgDQAAJBMWgCQSVoAkEVaAJBAWoIAgEwAAIBJAACARQAAgEAAAJAtWgCQNFqEAIAtAACANAAAkEVahACARQAAkElaAJBFWgCQQFqEAIBJAACARQAAgEAAAJBJWgCQRVoAkEBahACASQAAgEUAAIBAAIgA/y8A');\n",
       "                        });\n",
       "                </script>"
      ],
      "text/plain": [
       "<IPython.core.display.HTML object>"
      ]
     },
     "metadata": {},
     "output_type": "display_data"
    }
   ],
   "source": [
    "import guitarHarmony as gt\n",
    "import random\n",
    "\n",
    "elements  = []\n",
    "# Hotel California\n",
    "chord_set = ['B.m', 'F#.7', 'A.add9','E','G','D','E.m', 'F#.7']\n",
    "inversion_set = '00010000'\n",
    "octaves = [-1, 0, 1]\n",
    "\n",
    "# Canon\n",
    "chord_set = ['D5', 'A', 'B.m','F#.m','G','D','G', 'A']\n",
    "inversion_set = '01000000'\n",
    "octaves = [-1, 0, 1]\n",
    "\n",
    "l = len(chord_set)\n",
    "chord_list = []\n",
    "for idx in range(l*8):\n",
    "    chord = gt.Chord.pharseChord(chord_set[idx%l], inversion=int(inversion_set[idx%l]), duration=2)\n",
    "    chord_list.append(chord)\n",
    "\n",
    "# r = gt.Rhythm()\n",
    "r = gt.rhythm.SimpleRhythm('B.xSB.S.')\n",
    "# or try The following to mimic your previous rhythm\n",
    "r = gt.rhythm.SimpleRhythm('B.xSxS.SB.x.S.S.') #This is similar to your bar_duration of Hotel California\n",
    "r = gt.rhythm.SimpleRhythm('B.xSS.xSB.x.S.S.') #This is similar to your bar_duration of Cannon\n",
    "s = r.apply_gtChordList(chord_list, expandChord_times=2)\n",
    "# s.show()\n",
    "s.show('midi')"
   ]
  },
  {
   "cell_type": "code",
   "execution_count": null,
   "metadata": {},
   "outputs": [],
   "source": []
  },
  {
   "cell_type": "code",
   "execution_count": null,
   "metadata": {},
   "outputs": [],
   "source": []
  },
  {
   "cell_type": "code",
   "execution_count": null,
   "metadata": {},
   "outputs": [],
   "source": [
    "chord_set = ['B.m', 'F#.7', 'A.add9','E','G','D','E.m', 'F#.7']"
   ]
  },
  {
   "cell_type": "code",
   "execution_count": null,
   "metadata": {},
   "outputs": [],
   "source": []
  }
 ],
 "metadata": {
  "kernelspec": {
   "display_name": "Python 3",
   "language": "python",
   "name": "python3"
  },
  "language_info": {
   "codemirror_mode": {
    "name": "ipython",
    "version": 3
   },
   "file_extension": ".py",
   "mimetype": "text/x-python",
   "name": "python",
   "nbconvert_exporter": "python",
   "pygments_lexer": "ipython3",
   "version": "3.7.1"
  }
 },
 "nbformat": 4,
 "nbformat_minor": 2
}
