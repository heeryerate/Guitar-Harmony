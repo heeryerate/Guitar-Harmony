{
 "cells": [
  {
   "cell_type": "code",
   "execution_count": 60,
   "metadata": {},
   "outputs": [
    {
     "name": "stdout",
     "output_type": "stream",
     "text": [
      "The autoreload extension is already loaded. To reload it, use:\n",
      "  %reload_ext autoreload\n"
     ]
    }
   ],
   "source": [
    "from IPython.core.interactiveshell import InteractiveShell\n",
    "InteractiveShell.ast_node_interactivity = \"all\"\n",
    "%load_ext autoreload\n",
    "%autoreload 2"
   ]
  },
  {
   "cell_type": "code",
   "execution_count": 61,
   "metadata": {},
   "outputs": [
    {
     "data": {
      "text/plain": [
       "Note(\"C4\")"
      ]
     },
     "execution_count": 61,
     "metadata": {},
     "output_type": "execute_result"
    }
   ],
   "source": [
    "import guitarHarmony as gt\n",
    "# dir(gt)\n",
    "a = gt.note.Note('C')\n",
    "a"
   ]
  },
  {
   "cell_type": "code",
   "execution_count": 70,
   "metadata": {},
   "outputs": [
    {
     "data": {
      "text/plain": [
       "[Note(\"C5\"), Note(\"D5\"), Note(\"Eb5\"), Note(\"G5\")]"
      ]
     },
     "execution_count": 70,
     "metadata": {},
     "output_type": "execute_result"
    }
   ],
   "source": [
    "from guitarHarmony import *\n",
    "from itertools import product\n",
    "import random\n",
    "\n",
    "def getScale(root='C', scale_type='major'):\n",
    "    return list(map(str, scale.Scale(root, scale_type).notes))\n",
    "\n",
    "def getChord(root='C', chord_type=''):\n",
    "    return list(map(str, chord.Chord(root, chord_type).notes))\n",
    "\n",
    "def getInterval(root='C', interval='P1'):\n",
    "    return [str(note.Note(root)+interval.Interval(interval))]\n",
    "    # return list(map(str, Interval(root, interval_type).notes))\n",
    "\n",
    "def getProgression(root='C', progression_type='major_triads'):\n",
    "    return list(map(str, progression.Progression(root, progression_type).chords))\n",
    "\n",
    "sharp_circle_roots=['C', 'G', 'D', 'A', 'E', 'B', 'F#', 'C#']\n",
    "flat_circle_roots=['F', 'Bb', 'Eb', 'Ab', 'Db', 'Gb', 'Cb']\n",
    "modes = ['minor', 'major']\n",
    "\n",
    "a = chord.Chord('C5','madd2')\n",
    "a.notes"
   ]
  },
  {
   "cell_type": "code",
   "execution_count": null,
   "metadata": {},
   "outputs": [],
   "source": []
  },
  {
   "cell_type": "code",
   "execution_count": null,
   "metadata": {},
   "outputs": [],
   "source": []
  }
 ],
 "metadata": {
  "kernelspec": {
   "display_name": "Python 3",
   "language": "python",
   "name": "python3"
  },
  "language_info": {
   "codemirror_mode": {
    "name": "ipython",
    "version": 3
   },
   "file_extension": ".py",
   "mimetype": "text/x-python",
   "name": "python",
   "nbconvert_exporter": "python",
   "pygments_lexer": "ipython3",
   "version": "3.7.1"
  }
 },
 "nbformat": 4,
 "nbformat_minor": 2
}
